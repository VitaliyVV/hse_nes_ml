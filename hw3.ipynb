{
 "cells": [
  {
   "cell_type": "markdown",
   "metadata": {},
   "source": [
    "# Machine Learning\n",
    "\n",
    "*Екатерина Лобачева / Илья Щуров / Сергей Сметанин *\n",
    "\n",
    "*Совместный бакалавриат НИУ ВШЭ и РЭШ, 2016-17 учебный год*\n",
    "\n",
    "[Страница курса](http://math-info.hse.ru/2016-17/Machine_Learning)"
   ]
  },
  {
   "cell_type": "markdown",
   "metadata": {},
   "source": [
    "## Домашнее задание №ML3\n",
    "\n",
    "Чтобы выполнить работу, скачайте настоящий ipynb-файл, откройте его в *Jupyter Notebook*, впишите решения в оставленные для этого ячейки (при необходимости можно добавлять новые ячейки), приводя полный работающий код, а также все необходимые пояснения и ответы (для этого нужно использовать markdown-ячейки). Вы можете вставлять формулы с помощью TeX-разметки в markdown-ячейки. После выполнения работы необходимо вытащить ipynb-файл из Jupyter (например, с помощью *File → Download as… → IPython Notebook*) и загрузить его на my.NES."
   ]
  },
  {
   "cell_type": "markdown",
   "metadata": {},
   "source": [
    "### Задача 1\n",
    "В некотором царстве, в некотором государстве, банк Б выдаёт кредиты населению. Анализируя заявку на выдачу кредита с помощью алгоритмов машинного обучения (а именно, алгоритма классификации), банк пытается предсказать, вернёт ли заёмщик кредит, и в зависимости от результата одобряет или отклоняет заявку. Иногда в некотором царстве, некотором государстве, случаются экономические кризисы, во время которых банк минимизирует свои риски, стараясь выдавать кредиты только самым надёжным заёмщикам. Если же кризиса нет и экономика растёт, банк может позволить себе больше рисковать и выдавать кредиты более широкому кругу заёмщиков. На картинке ниже изображены ROC-кривые для двух алгоритмов классификации (здесь считается, что положительный класс — это «заёмщик вернёт кредит», а отрицательный класс — «не вернёт»). Площадь под кривыми одинакова. Какой из этих двух алгоритмов банк должен использовать во время кризиса? Ответ обосновать."
   ]
  },
  {
   "cell_type": "code",
   "execution_count": 23,
   "metadata": {
    "collapsed": false
   },
   "outputs": [
    {
     "data": {
      "text/plain": [
       "<matplotlib.text.Text at 0x111aff5c0>"
      ]
     },
     "execution_count": 23,
     "metadata": {},
     "output_type": "execute_result"
    },
    {
     "data": {
      "image/png": "[encoded data removed]",
      "text/plain": [
       "<matplotlib.figure.Figure at 0x111993438>"
      ]
     },
     "metadata": {},
     "output_type": "display_data"
    }
   ],
   "source": [
    "# код, рисующий картинку. для задачи он не важен.\n",
    "import numpy as np\n",
    "import matplotlib.pyplot as plt\n",
    "%matplotlib inline\n",
    "x = np.linspace(0, 1, 300)\n",
    "plt.figure(figsize=(6,6))\n",
    "plt.plot(x, x)\n",
    "plt.plot(x, np.sqrt(x), '-', label=\"first algorithm\")\n",
    "plt.plot(x, 1-(x-1)**2, '--', lw=2, label=\"second algorithm\")\n",
    "plt.legend(loc='best')\n",
    "plt.ylabel(\"TPR\")\n",
    "plt.xlabel(\"FPR\")"
   ]
  },
  {
   "cell_type": "code",
   "execution_count": 24,
   "metadata": {
    "collapsed": true
   },
   "outputs": [],
   "source": [
    "# Впишите решение сюда (при необходимости, создайте дополнительные ячейки ниже этой)"
   ]
  },
  {
   "cell_type": "markdown",
   "metadata": {},
   "source": [
    "### Задача 2\n",
    "Основано на [этом дз](https://github.com/esokolov/ml-course-hse/blob/master/2016-fall/homeworks-theory/homework-theory-04-linclass.pdf). Алгоритм построения ROC-кривой подробно описан [здесь](https://github.com/esokolov/ml-course-hse/blob/master/2016-fall/seminars/sem05-linclass.pdf).\n",
    "\n",
    "Пусть дана выборка $X$, состоящая из 8 объектов, и классификатор $b(x)$, предсказывающий оценку принадлежности объекта положительному классу (чем больше $b(x)$, тем больше уверенность, что объект $x$ принадлежит положительному классу). Предсказания $b(x)$ и реальные метки приведены ниже. Классификатор $a(x; t)$ относит объект $x$ к положительному классу, если $b(x) \\ge t$, и к отрицательному классу в противном случае. Построить ROC-кривую и вычислить AUC-ROC для семейства классификаторов $a(x; t)$.\n",
    "\n",
    "- $b(x_1)=0.1,\\quad y_1=+1$;\n",
    "- $b(x_2)=0.8,\\quad y_2=+1$;\n",
    "- $b(x_3)=0.2,\\quad y_3=-1$;\n",
    "- $b(x_4)=0.25,\\quad y_4=-1$;\n",
    "- $b(x_5)=0.9,\\quad y_5=+1$;\n",
    "- $b(x_6)=0.3,\\quad y_6=+1$;\n",
    "- $b(x_7)=0.6,\\quad y_7=-1$;\n",
    "- $b(x_8)=0.95,\\quad y_8=+1$."
   ]
  },
  {
   "cell_type": "code",
   "execution_count": 25,
   "metadata": {
    "collapsed": true
   },
   "outputs": [],
   "source": [
    "# Впишите решение сюда (при необходимости, создайте дополнительные ячейки ниже этой)"
   ]
  },
  {
   "cell_type": "markdown",
   "metadata": {},
   "source": [
    "### Задача 3"
   ]
  },
  {
   "cell_type": "markdown",
   "metadata": {},
   "source": [
    "В [csv-файле](http://math-info.hse.ru/f/2016-17/nes-ml/diabetes.csv) содержатся данные о пациентах. Требуется обучить логистическую регрессию, которая бы предсказывала, болен пациент диабетом или нет (переменная `diabet` имеет значение `+1`, если человек болен, и `-1`, если нет).\n",
    "\n",
    "Загрузите файл с помощью `pandas.read_csv`, сформируйте обучающую и тестовую матрицы признаков `X_train`, `X_test` (разделите всю выборку в отношении 80/20) и векторы ответов `y_train`, `y_test` (можно использовать `sklearn.model_selection.train_test_split` (см. [документацию](http://scikit-learn.org/stable/modules/generated/sklearn.model_selection.train_test_split.html)), нормализуйте значения признаков с помощью [`sklearn.preprocessing.scale`](http://scikit-learn.org/stable/modules/generated/sklearn.preprocessing.scale.html#sklearn.preprocessing.scale), затем обучите логистическую регрессию (`sklearn.linear_model.LogisticRegression`) на обучающей выборке.\n",
    "\n",
    "Обратите внимание, что в задачах диагностики цена ошибки false negative (не обнаружили, что человек болен диабетом, хотя он действительно болен, в результате не было дано адекватное лечение) гораздо выше цены ошибки false positive (в этом случае достаточно провести повторный анализ, который скорее всего укажет на отсутствие болезни).\n",
    "\n",
    "Найдите confusion matrix для вашего алгоритма (на тестовой выборке). Найдите число ошибок каждого вида. Найдите TPR и FPR.\n",
    "\n",
    "Метод `predict()` для объекта `LogisticRegression` относит каждый объект к тому классу, предсказанная вероятность которого для данного объекта больше предсказанной вероятности других классов. То есть для двухклассовой классификации это соответствует порогу $0.5$. На основании полученных выше данных, объясните, следует ли на ваш взгляд изменить порог, и если да, то в какую сторону?\n",
    "\n",
    "Для вычисления confusion matrix вы можете использовать функцию `sklearn.metrics.confusion_matrix`, ей необходимо передать истинные классы и предсказанные классы. (О том, какая строка и какой столбец какому классу соответствует, лучше почитать в [документации](http://scikit-learn.org/stable/modules/generated/sklearn.metrics.confusion_matrix.html).)"
   ]
  },
  {
   "cell_type": "code",
   "execution_count": 93,
   "metadata": {
    "collapsed": true
   },
   "outputs": [],
   "source": [
    "# Впишите решение сюда (при необходимости, создайте дополнительные ячейки ниже этой)"
   ]
  }
 ],
 "metadata": {
  "kernelspec": {
   "display_name": "Python 3",
   "language": "python",
   "name": "python3"
  },
  "language_info": {
   "codemirror_mode": {
    "name": "ipython",
    "version": 3
   },
   "file_extension": ".py",
   "mimetype": "text/x-python",
   "name": "python",
   "nbconvert_exporter": "python",
   "pygments_lexer": "ipython3",
   "version": "3.5.0"
  },
  "toc": {
   "toc_cell": false,
   "toc_number_sections": false,
   "toc_threshold": 6,
   "toc_window_display": false
  }
 },
 "nbformat": 4,
 "nbformat_minor": 0
}

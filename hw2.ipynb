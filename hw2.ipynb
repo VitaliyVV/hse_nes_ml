{
 "cells": [
  {
   "cell_type": "markdown",
   "metadata": {},
   "source": [
    "# Machine Learning\n",
    "\n",
    "*Екатерина Лобачева / Илья Щуров / Сергей Сметанин *\n",
    "\n",
    "*Совместный бакалавриат НИУ ВШЭ и РЭШ, 2016-17 учебный год*\n",
    "\n",
    "[Страница курса](http://math-info.hse.ru/2016-17/Machine_Learning)"
   ]
  },
  {
   "cell_type": "markdown",
   "metadata": {},
   "source": [
    "## Домашнее задание №ML2\n",
    "\n",
    "Чтобы выполнить работу, скачайте настоящий ipynb-файл, откройте его в *Jupyter Notebook*, впишите решения в оставленные для этого ячейки (при необходимости можно добавлять новые ячейки), приводя полный работающий код, а также все необходимые пояснения и ответы (для этого нужно использовать markdown-ячейки). Вы можете вставлять формулы с помощью TeX-разметки в markdown-ячейки. После выполнения работы необходимо вытащить ipynb-файл из Jupyter (например, с помощью *File → Download as… → IPython Notebook*) и загрузить его на my.NES."
   ]
  },
  {
   "cell_type": "markdown",
   "metadata": {},
   "source": [
    "### Задача 1\n",
    "Рассмотрим линейную регрессию с матрицей признаков $X=(x_i^j)$, $i$ — номер столбца (номер переменной), $i=1,\\ldots, m$, $j$ — номер строки (номер наблюдения или объекта), $j=1,\\ldots, n$ и вектором ответов $y=(y^1, \\ldots, y^n)$. Квадратичная функция потерь записывается в виде\n",
    "\n",
    "$$Q(w) = \\sum_{j=1}^n Q_j(w) = \\sum_{j=1}^n ( \\langle x^j, w\\rangle - y^j)^2,$$\n",
    "\n",
    "где $w$ — вектор весов, $Q_j(w)$ — потеря на $j$-м объекте, угловыми скобками обозначается стандартное скалярное произведение.\n",
    "\n",
    "Реализовать алгоритм стохастического градиентного спуска. Он отличается от обычного градиентного спуска тем, что вместо вектора градиента функции $Q$ используется вектор градиента функции $Q_j$, где $j$ на каждом шаге выбирается случайным образом среди всех номеров наблюдений. \n",
    "\n",
    "1. Написать функцию `gradient_descent_stochastic`, аналогичную `gradient_descent_simple` из конспекта семинара.   **Подсказка:** Вы можете использовать функцию `randrange` из модуля `random`, чтобы выбирать каждый раз новый элемент.\n",
    "2. Применить полученную функцию для решения регрессионной задачи на сгенерированных случайных данных, аналогично тому, как это сделано в конспекте семинара.\n",
    "3. Построить график, показывающий зависимость между номером шага и логарифмом ошибки, для обычного и стохастического градиентного спуска.\n",
    "4. Сравнить результаты при использовании постоянного шага $\\eta_k = \\eta$ и убывающего шага $\\eta_k = \\eta/(1+k/n)$, где $n$ — число наблюдений.\n",
    "\n"
   ]
  },
  {
   "cell_type": "code",
   "execution_count": 402,
   "metadata": {
    "collapsed": true
   },
   "outputs": [],
   "source": [
    "# Впишите решение сюда (при необходимости, создайте дополнительные ячейки ниже этой)"
   ]
  },
  {
   "cell_type": "markdown",
   "metadata": {},
   "source": [
    "### Задача 2\n",
    "Рассмотрим линейную регрессию с $L_2$-регуляризатором. Функция потерь при этом записывается в виде\n",
    "\n",
    "$$Q(w) = \\|Xw-y\\|^2 + \\alpha \\|w\\|^2,$$\n",
    "\n",
    "где $\\|a\\| = \\sqrt{a_1^2 + \\ldots + a_m^2}$ — стандартная $L_2$-норма вектора, $\\alpha$ — некоторая константа. \n",
    "\n",
    "1. Найти градиент $\\frac{\\partial Q(w)}{\\partial w}$. Записать его в матричном виде.\n",
    "2. Реализовать алгоритм градиентного спуска для данной функции потерь."
   ]
  },
  {
   "cell_type": "code",
   "execution_count": 403,
   "metadata": {
    "collapsed": true
   },
   "outputs": [],
   "source": [
    "# Впишите решение сюда (при необходимости, создайте дополнительные ячейки ниже этой)"
   ]
  },
  {
   "cell_type": "markdown",
   "metadata": {},
   "source": [
    "### Задача 3"
   ]
  },
  {
   "cell_type": "markdown",
   "metadata": {},
   "source": [
    "Сгенерируем данные следующим образом:"
   ]
  },
  {
   "cell_type": "code",
   "execution_count": 399,
   "metadata": {
    "collapsed": true
   },
   "outputs": [],
   "source": [
    "from numpy.random import normal\n",
    "from random import seed\n",
    "import numpy as np\n",
    "import matplotlib.pyplot as plt\n",
    "%matplotlib inline"
   ]
  },
  {
   "cell_type": "code",
   "execution_count": 400,
   "metadata": {
    "collapsed": false
   },
   "outputs": [
    {
     "data": {
      "text/plain": [
       "[<matplotlib.lines.Line2D at 0x10ac88b70>]"
      ]
     },
     "execution_count": 400,
     "metadata": {},
     "output_type": "execute_result"
    },
    {
     "data": {
      "image/png": "[encoded data removed]",
      "text/plain": [
       "<matplotlib.figure.Figure at 0x10a0f25c0>"
      ]
     },
     "metadata": {},
     "output_type": "display_data"
    }
   ],
   "source": [
    "seed(42)\n",
    "# стартовое состояние генератора случайных чисел: для воспроизводимости\n",
    "\n",
    "n = 100\n",
    "# число наблюдений\n",
    "\n",
    "x_train = np.linspace(0.3, 6, n)\n",
    "y_train = np.sin(x_train) + normal(scale=0.3, size=n)\n",
    "x_test = np.linspace(0.3, 6, 300)\n",
    "y_test = np.sin(x_test)\n",
    "\n",
    "plt.plot(x_train, y_train, 'o')\n",
    "plt.plot(x_test, y_test)"
   ]
  },
  {
   "cell_type": "markdown",
   "metadata": {},
   "source": [
    "Рассмотрим линейную регрессию\n",
    "$$y = \\beta_1 x + \\beta_2 x^2 + \\ldots + \\beta_d x^d.$$"
   ]
  },
  {
   "cell_type": "markdown",
   "metadata": {},
   "source": [
    "Будем решать регрессионную задачу для сгенерированных ранее данных тремя различными методами:\n",
    "\n",
    "1. Без регуляризации: с помощью `LinearRegression()`.\n",
    "2. С $L_2$-регуляризацией: с помощью `Ridge()`.\n",
    "3. С $L_1$-регуляризацией: с помощью `Lasso()`.\n",
    "\n",
    "Пример применения этих функций можно найти [в конспектах Евгения Соколова](https://github.com/esokolov/ml-course-hse/blob/master/2016-fall/seminars/sem02-linregr.ipynb)."
   ]
  },
  {
   "cell_type": "code",
   "execution_count": 401,
   "metadata": {
    "collapsed": false
   },
   "outputs": [],
   "source": [
    "from sklearn.linear_model import LinearRegression\n",
    "from sklearn.linear_model import Ridge\n",
    "from sklearn.linear_model import Lasso\n",
    "from sklearn.metrics import mean_squared_error"
   ]
  },
  {
   "cell_type": "markdown",
   "metadata": {},
   "source": [
    "1. Для $d$ равных 1, 2, 5, 10, 30, обучить каждую из трёх указанных выше линейных моделей. **Примечание.** Для каждого значения $d$ вам понадобится сгенерировать матрицы `X_train` и `X_test` с $d$ столбцами, соответствующими степеням $x$. Чтобы регуляризация нормально работала, данные следует нормализовать: например, из каждого столбца вычесть среднее и разделить на стандартное отклонение. (Впрочем, можете попробовать и не делать нормализацию и посмотреть, что получится.)\n",
    "2. Для каждой из моделей построить графики предсказанных значений $y$, вычисленных по тестовым значениям $x$ (элементы `x_test`), и истинных значений $y$. \n",
    "3. Найти среднюю квадратичную ошибку (средний квадрат разности между предсказанными и истинными значениями $y$) для тестовой выборки (для вычисления используйте функцию `mean_squared_error`, импортированную выше). \n",
    "4. Какая из моделей сильнее переобучается? \n",
    "5. Какой из способов регуляризации позволяет лучше справиться с переобучением? \n",
    "6. Попробуйте подобрать такие параметры ($d$, $\\alpha$), при которых минимизируется среднеквадратичная ошибка, вычисленная на тестовой выборке.\n",
    "7. Какой из методов работает быстрее? (Используйте магическую команду `%%timeit`, чтобы определить время выполнения ячейки.) Как изменится соотношение времени работы, если число наблюдений $n$ увеличить в 10 раз? В 100 раз? (Примечание: `LinearRegression` использует явную формулу для вычисления коэффициентов линейной регрессии, через обращение матрицы. `Ridge` и `Lasso` используют итеративные формулы — градиентный спуск и другие.)\n",
    "\n"
   ]
  },
  {
   "cell_type": "code",
   "execution_count": 402,
   "metadata": {
    "collapsed": true
   },
   "outputs": [],
   "source": [
    "# Впишите решение сюда (при необходимости, создайте дополнительные ячейки ниже этой)"
   ]
  }
 ],
 "metadata": {
  "kernelspec": {
   "display_name": "Python 3",
   "language": "python",
   "name": "python3"
  },
  "language_info": {
   "codemirror_mode": {
    "name": "ipython",
    "version": 3
   },
   "file_extension": ".py",
   "mimetype": "text/x-python",
   "name": "python",
   "nbconvert_exporter": "python",
   "pygments_lexer": "ipython3",
   "version": "3.5.0"
  },
  "toc": {
   "toc_cell": false,
   "toc_number_sections": false,
   "toc_threshold": 6,
   "toc_window_display": false
  }
 },
 "nbformat": 4,
 "nbformat_minor": 0
}

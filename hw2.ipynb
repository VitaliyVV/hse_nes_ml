{
 "cells": [
  {
   "cell_type": "markdown",
   "metadata": {},
   "source": [
    "# Machine Learning\n",
    "\n",
    "*Екатерина Лобачева / Илья Щуров / Сергей Сметанин *\n",
    "\n",
    "*Совместный бакалавриат НИУ ВШЭ и РЭШ, 2016-17 учебный год*\n",
    "\n",
    "[Страница курса](http://math-info.hse.ru/2016-17/Machine_Learning)"
   ]
  },
  {
   "cell_type": "markdown",
   "metadata": {},
   "source": [
    "## Домашнее задание №ML2\n",
    "\n",
    "Чтобы выполнить работу, скачайте настоящий ipynb-файл, откройте его в *Jupyter Notebook*, впишите решения в оставленные для этого ячейки (при необходимости можно добавлять новые ячейки), приводя полный работающий код, а также все необходимые пояснения и ответы (для этого нужно использовать markdown-ячейки). Вы можете вставлять формулы с помощью TeX-разметки в markdown-ячейки. После выполнения работы необходимо вытащить ipynb-файл из Jupyter (например, с помощью *File → Download as… → IPython Notebook*) и загрузить его на my.NES."
   ]
  },
  {
   "cell_type": "markdown",
   "metadata": {},
   "source": [
    "### Задача 1\n",
    "Рассмотрим линейную регрессию с матрицей признаков $X=(x_i^j)$, $i$ — номер столбца (номер признака), $i=1,\\ldots, m$, $j$ — номер строки (номер наблюдения или объекта), $j=1,\\ldots, n$ и вектором ответов $y=(y^1, \\ldots, y^n)$. Запишем квадратичную функцию потерь с $L_2$-регуляризацией:\n",
    "\n",
    "$$Q(w) = \\|Xw - y \\|^2 + \\alpha \\|w\\|,$$\n",
    "где $w$ — вектор весов, $\\|a\\| = \\sqrt{a_1^2 + \\ldots + a_m^2}$ — стандартная $L_2$-норма вектора, $\\alpha$ — некоторая константа.\n",
    "\n",
    "\n",
    "1. Найти градиент $\\frac{\\partial Q(w)}{\\partial w}$. Записать его в матричном виде.\n",
    "2. Реализовать алгоритм градиентного спуска для данной функции потерь. Написать функцию `GD(X, y, max_epoch=1000, eta=0.001, alpha=0.0, tol=0.0001)` со следующими свойствами:\n",
    "    - Функция вычисляет оптимальный вектор весов $w$ с помощью градиентного спуска.\n",
    "    - Начальное значение вектора весов: нулевой вектор.\n",
    "    - Процесс оптимизации останавливается, если сделано `max_epoch * n` шагов (одна эпоха соответствует количеству шагов, равному общему числу наблюдений $n$), либо если значение функции потерь на очередном шаге изменилось менее, чем на `tol`.\n",
    "    - Коэффициент перед градиентом равен `eta/n`. (Это нужно, чтобы средний шаг был таким же, как в стохастическом градиентном спуске, см. задачу 2.)\n",
    "    - `alpha` — коэффициент перед регуляризатором.\n",
    "    - Функция возвращает пару `(w, L)`, где `w` — вектор весов на последнем шаге, `L` — список, состоящий из значений функции потерь в начале каждой эпохи.\n",
    "    \n",
    "В качестве источника вдохновения ниже приводится функция `GD_nonreg`, решающая аналогичную задачу без регуляризатора. Вы можете модифицировать её в соответствии с условиями задачи."
   ]
  },
  {
   "cell_type": "code",
   "execution_count": 1,
   "metadata": {
    "collapsed": true
   },
   "outputs": [],
   "source": [
    "def GD_nonreg(X, y, max_epoch=1000, eta=0.001, tol=0.0001):\n",
    "    \n",
    "    # Используя X и y, определим функцию потерь и её градиент:\n",
    "    def Q(w):\n",
    "        S = X @ w - y\n",
    "        return S.T @ S\n",
    "    \n",
    "    def DQ(w):\n",
    "        return 2 * (X.T @ X @ w - X.T @ y)\n",
    "    \n",
    "    n, m = X.shape\n",
    "    # n — число строк в матрице X (число наблюдений), \n",
    "    # m — число столбцов (число признаков)\n",
    "    \n",
    "    w_prev = np.array([0] * m)\n",
    "    L = [Q(w_prev)]\n",
    "    \n",
    "    for epoch in range(max_epoch):\n",
    "        for j in range(n):\n",
    "            w_next = w_prev - eta * DQ(w_prev)\n",
    "            if abs(Q(w_next) - Q(w_prev)) < tol:\n",
    "                return w_next, L\n",
    "            w_prev = w_next\n",
    "        L.append(Q(w_next, alpha))\n",
    "    return w_next, L"
   ]
  },
  {
   "cell_type": "code",
   "execution_count": 2,
   "metadata": {
    "collapsed": true
   },
   "outputs": [],
   "source": [
    "# Впишите решение сюда (при необходимости, создайте дополнительные ячейки ниже этой)"
   ]
  },
  {
   "cell_type": "markdown",
   "metadata": {},
   "source": [
    "### Задача 2\n",
    "Запишем функцию потерь из предыдущей задачи в виде:\n",
    "\n",
    "$$Q(w) = \\sum_{j=1}^n Q_j(w),$$\n",
    "где $Q_j(w)$ — ошибка на $j$-м наблюдении:\n",
    "\n",
    "$$Q_j(w) = ( \\langle x^j, w\\rangle - y^j)^2 + \\frac{\\alpha}{n} \\|w\\|^2.$$\n",
    "Здесь угловыми скобками обозначается стандартное скалярное произведение.\n",
    "\n",
    "Реализовать алгоритм *стохастического градиентного спуска* для этой функции потерь. Его идея состоит в том, чтобы вместо градиента функции $Q(w)$ на каждом шаге использовать градиент функции $Q_j(w)$ для некоторого наблюдения $j$, выбираемого случайным образом. На практике делают так. Сначала перемешивают наблюдения (выбирают на них случайный порядок). На первых $n$ шагах алгоритма  для вычисления $Q_j$ последовательно перебирают все наблюдения (в соответствии с выбранным случайным порядком). Этот промежуток называется *первой эпохой*. Затем снова перемешивают все наблюдения (выбирают новый случайный порядок — наступает *вторая эпоха*) и на следующих $n$ шагах снова последовательно перебирают все наблюдения (в соответствии с новым случайным порядком). И так далее. \n",
    "\n",
    "Более формально:\n",
    "\n",
    "Выберем случайную перестановку на множестве номеров наблюдений, то есть взаимно однозначную функцию $\\pi_1\\colon \\{1, \\ldots, n\\} \\to \\{1, \\ldots, n\\}$. (Иными словами, перенумеруем наблюдения случайным образом.) На первых $n$ шагах алгоритма будем вместо градиента функции $Q(w)$ использовать градиент функции $Q_{\\pi_1(j)}(w)$, где $j=1,\\ldots, n$ — номер шага. Затем выберем другую случайную перестановку $\\pi_2$ и на следующих $n$ шагах алгоритма будем использовать градиент функции $Q_{\\pi_2(j)}$, где $j$ — номер шага от начала второй эпохи. И так далее.\n",
    "\n",
    "Написать функцию `SGD(X, y, max_epoch=1000, eta=0.001, alpha=0.0, decrease_eta=True)` со следующими свойствами:\n",
    "\n",
    "- Функция вычисляет оптимальный вектор весов $w$ с помощью стохастического градиентного спуска.\n",
    "- Начальное значение вектора весов: нулевой вектор.\n",
    "- Процесс оптимизации останавливается, если прошло `max_epoch` эпох.\n",
    "- Коэффициент перед градиентом равен `eta`, если `decrease_eta==False`, и равен `eta/epoch_number` в противном случае, где `epoch_number` — номер эпохи.\n",
    "- `alpha` — коэффициент перед регуляризатором.\n",
    "- Функция возвращает пару `(w, L)`, где `w` — вектор весов на последнем шаге, `L` — список, состоящий из значений функции потерь в начале каждой эпохи.\n",
    "    \n",
    "**Подсказка:** Вы можете использовать функцию `shuffle` из модуля `random` или [sklearn.utils.shuffle](http://scikit-learn.org/stable/modules/generated/sklearn.utils.shuffle.html) чтобы выбирать случайный порядок наблюдений."
   ]
  },
  {
   "cell_type": "code",
   "execution_count": 3,
   "metadata": {
    "collapsed": true
   },
   "outputs": [],
   "source": [
    "# Впишите решение сюда (при необходимости, создайте дополнительные ячейки ниже этой)"
   ]
  },
  {
   "cell_type": "markdown",
   "metadata": {},
   "source": [
    "### Задача 3"
   ]
  },
  {
   "cell_type": "markdown",
   "metadata": {},
   "source": [
    "Сгенерируем данные следующим образом:"
   ]
  },
  {
   "cell_type": "code",
   "execution_count": 4,
   "metadata": {
    "collapsed": true
   },
   "outputs": [],
   "source": [
    "from numpy.random import normal, seed\n",
    "import numpy as np\n",
    "import matplotlib.pyplot as plt\n",
    "%matplotlib inline"
   ]
  },
  {
   "cell_type": "code",
   "execution_count": 5,
   "metadata": {
    "collapsed": false
   },
   "outputs": [
    {
     "data": {
      "text/plain": [
       "[<matplotlib.lines.Line2D at 0x1058bcf28>]"
      ]
     },
     "execution_count": 5,
     "metadata": {},
     "output_type": "execute_result"
    },
    {
     "data": {
      "image/png": "[encoded data removed]",
      "text/plain": [
       "<matplotlib.figure.Figure at 0x1058bceb8>"
      ]
     },
     "metadata": {},
     "output_type": "display_data"
    }
   ],
   "source": [
    "seed(42)\n",
    "# стартовое состояние генератора случайных чисел: для воспроизводимости\n",
    "\n",
    "n = 100\n",
    "# число наблюдений\n",
    "\n",
    "x_train = np.linspace(-2, 2, n)\n",
    "y_train = 3 * x_train + x_train**2 - x_train**3 + normal(scale=0.7, size=n, )\n",
    "x_test = np.linspace(-2, 2, 300)\n",
    "y_test = 3 * x_test + x_test**2 - x_test**3\n",
    "# обычно в качестве тестовой выборки используется какая-то часть данных,\n",
    "# не попавшая в обучающую выборку, но в данном случае мы знаем\n",
    "# настоящий ответ и будем использовать его для тестирования\n",
    "\n",
    "plt.plot(x_train, y_train, 'o')\n",
    "plt.plot(x_test, y_test)"
   ]
  },
  {
   "cell_type": "markdown",
   "metadata": {},
   "source": [
    "Рассмотрим линейную регрессию\n",
    "$$y = \\beta_1 x + \\beta_2 x^2 + \\ldots + \\beta_d x^d.$$\n",
    "\n",
    "1. Применить функции `GD` и `SGD` к решению этой регрессионной задачи для $d=10$, $\\alpha=0.1$.\n",
    "2. Построить графики предсказанных значений $y$ от $x$ на тестовой выборке для обеих функций.\n",
    "3. Нарисовать график зависимости значения функции потерь от номера эпохи для каждой из этих двух функций. Использовать список `L`, возвращаемый кажодй из этих функций. Для `SGD` использовать параметр `decrease_eta=False`, на картинке отразить только те эпохи, до которых доходит `GD`.\n",
    "4. Какой из методов быстрее работает? С помощью `%%timeit` сравните время выполнения `GD` и `SGD`. Функции `SGD` в качестве `max_epoch` передайте длину списка `L`, возвращённого `GD` (чтобы обе функции работали одинаковое число эпох).\n",
    "\n",
    "**Примечание.** Вам понадобится сгенерировать матрицы `X_train` и `X_test` с $d$ столбцами, соответствующими степеням $x$. Чтобы регуляризация нормально работала, данные следует нормализовать: разделите каждый столбец на его стандартное отклонение (его можно вычислить с помощью `np.std`). Обычно также вычитают среднее, но мы не будем сейчас этого делать: подобная операция приведёт к появлению константного слагаемого в модели, чего мы сейчас не хотим."
   ]
  },
  {
   "cell_type": "code",
   "execution_count": 6,
   "metadata": {
    "collapsed": true
   },
   "outputs": [],
   "source": [
    "# Впишите решение сюда (при необходимости, создайте дополнительные ячейки ниже этой)"
   ]
  },
  {
   "cell_type": "markdown",
   "metadata": {},
   "source": [
    "### Задача 4\n",
    "\n",
    "Теперь мы будем использовать регрессионные модели из модуля `sklearn` (scikit-learn). Обучим три модели на основе данных из предыдущей задачи.\n",
    "\n",
    "1. Без регуляризации: с помощью `LinearRegression()`.\n",
    "2. С $L_2$-регуляризацией: с помощью `Ridge()`.\n",
    "3. С $L_1$-регуляризацией: с помощью `Lasso()`.\n",
    "\n",
    "Пример применения этих функций можно найти [в конспектах Евгения Соколова](https://github.com/esokolov/ml-course-hse/blob/master/2016-fall/seminars/sem02-linregr.ipynb)."
   ]
  },
  {
   "cell_type": "code",
   "execution_count": 7,
   "metadata": {
    "collapsed": false
   },
   "outputs": [],
   "source": [
    "from sklearn.linear_model import LinearRegression\n",
    "from sklearn.linear_model import Ridge\n",
    "from sklearn.linear_model import Lasso\n",
    "from sklearn.metrics import mean_squared_error"
   ]
  },
  {
   "cell_type": "markdown",
   "metadata": {},
   "source": [
    "1. Для $d$ равных 1, 2, 3, 5, 10, 30 обучить каждую из трёх указанных выше линейных моделей.\n",
    "2. Для каждой из моделей построить графики предсказанных значений $y$, вычисленных по тестовым значениям $x$ (элементы `x_test`), и истинных значений $y$. Попробуйте использовать разные значения параметра $\\alpha$ для моделей с регуляризацией и посмотрите на эффект.\n",
    "3. Найти среднеквадратичную ошибку (средний квадрат разности между предсказанными и истинными значениями $y$) для тестовой выборки (для вычисления используйте функцию `mean_squared_error`, импортированную выше). \n",
    "4. Какая из моделей сильнее переобучается? \n",
    "5. Какой из способов регуляризации позволяет лучше справиться с переобучением? \n",
    "6. Для $d=30$ попробуйте подобрать оптимальное значение $\\alpha$ для каждого из методов с регуляризацией.\n",
    "7. Убедитесь, что `Lasso` зануляет некоторые коэффициенты регрессии. (Для вывода списка коэффициентов можно использовать `model.coef_`, где `model` — наша модель.)\n",
    "7. Какой из методов работает быстрее? (Используйте магическую команду `%%timeit`, чтобы определить время выполнения ячейки.) Как изменится соотношение времени работы, если число наблюдений $n$ увеличить в 10 раз? В 100 раз? (Примечание: `LinearRegression` использует явную формулу для вычисления коэффициентов линейной регрессии, через обращение матрицы. `Ridge` и `Lasso` могут использовать итеративные формулы — градиентный спуск и другие.)"
   ]
  },
  {
   "cell_type": "code",
   "execution_count": 8,
   "metadata": {
    "collapsed": true
   },
   "outputs": [],
   "source": [
    "# Впишите решение сюда (при необходимости, создайте дополнительные ячейки ниже этой)"
   ]
  }
 ],
 "metadata": {
  "kernelspec": {
   "display_name": "Python 3",
   "language": "python",
   "name": "python3"
  },
  "language_info": {
   "codemirror_mode": {
    "name": "ipython",
    "version": 3
   },
   "file_extension": ".py",
   "mimetype": "text/x-python",
   "name": "python",
   "nbconvert_exporter": "python",
   "pygments_lexer": "ipython3",
   "version": "3.5.0"
  },
  "toc": {
   "toc_cell": false,
   "toc_number_sections": false,
   "toc_threshold": 6,
   "toc_window_display": false
  }
 },
 "nbformat": 4,
 "nbformat_minor": 0
}
